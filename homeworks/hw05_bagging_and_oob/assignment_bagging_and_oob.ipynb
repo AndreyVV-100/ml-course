{
 "cells": [
  {
   "cell_type": "markdown",
   "id": "119c9460",
   "metadata": {},
   "source": [
    "## Home assignment 05: Bagging and OOB score\n",
    "\n",
    "Please, fill the lines in the code below.\n",
    "This is a simplified version of `BaggingRegressor` from `sklearn`. Please, notice, that `sklearn` API is **not preserved**.\n",
    "\n",
    "Your algorithm should be able to train different instances of the same model class on bootstrapped datasets and to provide [OOB score](https://en.wikipedia.org/wiki/Out-of-bag_error) for the training set.\n",
    "\n",
    "The model should be passed as model class with no explicit parameters and no parentheses.\n",
    "\n",
    "Example:\n",
    "```\n",
    "import numpy as np\n",
    "from sklearn.linear_model import LinearRegression\n",
    "\n",
    "bagging_regressor = SimplifiedBaggingRegressor(num_bags=10, oob=True)\n",
    "bagging_regressor.fit(LinearRegression, X, y)\n",
    "\n",
    "```"
   ]
  },
  {
   "cell_type": "code",
   "execution_count": 1,
   "id": "31ecde34",
   "metadata": {},
   "outputs": [],
   "source": [
    "import numpy as np"
   ]
  },
  {
   "cell_type": "code",
   "execution_count": 2,
   "id": "422e8829",
   "metadata": {},
   "outputs": [],
   "source": [
    "from bagging import SimplifiedBaggingRegressor"
   ]
  },
  {
   "cell_type": "code",
   "execution_count": null,
   "metadata": {},
   "outputs": [],
   "source": []
  },
  {
   "cell_type": "markdown",
   "id": "5cfa174f",
   "metadata": {},
   "source": [
    "### Local tests:"
   ]
  },
  {
   "cell_type": "code",
   "execution_count": 3,
   "id": "eaa2e710",
   "metadata": {},
   "outputs": [],
   "source": [
    "from sklearn.linear_model import LinearRegression\n",
    "from tqdm.auto import tqdm"
   ]
  },
  {
   "cell_type": "markdown",
   "id": "b54221c2",
   "metadata": {},
   "source": [
    "#### Simple tests:"
   ]
  },
  {
   "cell_type": "code",
   "execution_count": 4,
   "id": "84c94a8b",
   "metadata": {},
   "outputs": [
    {
     "name": "stdout",
     "output_type": "stream",
     "text": [
      "Simple tests done!\n"
     ]
    }
   ],
   "source": [
    "for _ in range(10):\n",
    "    X = np.random.randn(2000, 10)\n",
    "    y = np.mean(X, axis=1)\n",
    "    bagging_regressor = SimplifiedBaggingRegressor(num_bags=10, oob=True)\n",
    "    bagging_regressor.fit(LinearRegression, X, y)\n",
    "    predictions = bagging_regressor.predict(X)\n",
    "    assert np.mean((predictions - y)**2) < 1e-6, 'Linear dependency should be fitted with almost zero error!'\n",
    "    assert bagging_regressor.oob, 'OOB feature must be turned on'\n",
    "    oob_score = bagging_regressor.OOB_score()\n",
    "    assert oob_score < 1e-6, 'OOB error for linear dependency should be also close to zero!'\n",
    "    assert abs(\n",
    "        np.mean(\n",
    "            list(map(len, bagging_regressor.list_of_predictions_lists))\n",
    "        ) / bagging_regressor.num_bags - 1/np.exp(1)) < 0.1, 'Probability of missing a bag should be close to theoretical value!'\n",
    "    \n",
    "print('Simple tests done!')"
   ]
  },
  {
   "cell_type": "markdown",
   "id": "4be4d037",
   "metadata": {},
   "source": [
    "#### Medium tests"
   ]
  },
  {
   "cell_type": "code",
   "execution_count": 4,
   "id": "0cfd3a21",
   "metadata": {},
   "outputs": [
    {
     "name": "stdout",
     "output_type": "stream",
     "text": [
      "0.5987186564820667 3.3374774223575194\n",
      "0.37790739421632985 3.4176491251973196\n",
      "0.3873050696006047 3.6939578439397467\n",
      "0.36713785727544085 2.2499944406645978\n",
      "0.5254505058371819 5.4014911735126665\n",
      "0.3357527053005463 1.7609465737950671\n",
      "0.42010194607672063 4.570420113814689\n",
      "0.3587715211689496 2.330339057196755\n",
      "0.38101387404529663 2.5871165442348216\n",
      "0.5865636853978675 6.677832396061594\n",
      "Medium tests done!\n"
     ]
    }
   ],
   "source": [
    "for _ in range(10):\n",
    "    X = np.random.randn(200, 150)\n",
    "    y = np.random.randn(len(X))\n",
    "    bagging_regressor = SimplifiedBaggingRegressor(num_bags=20, oob=True)\n",
    "    bagging_regressor.fit(LinearRegression, X, y)\n",
    "    predictions = bagging_regressor.predict(X)\n",
    "    average_train_error = np.mean((predictions - y)**2)\n",
    "    assert bagging_regressor.oob, 'OOB feature must be turned on'\n",
    "    oob_score = bagging_regressor.OOB_score()\n",
    "    print(average_train_error, oob_score)\n",
    "    assert oob_score > average_train_error, 'OOB error must be higher than train error due to overfitting!'\n",
    "    assert abs(\n",
    "        np.mean(\n",
    "            list(map(len, bagging_regressor.list_of_predictions_lists))\n",
    "        ) / bagging_regressor.num_bags - 1/np.exp(1)) < 0.1, 'Probability of missing a bag should be close to theoretical value!'\n",
    "    \n",
    "print('Medium tests done!')"
   ]
  },
  {
   "cell_type": "markdown",
   "id": "725818ff",
   "metadata": {},
   "source": [
    "#### Complex tests:"
   ]
  },
  {
   "cell_type": "code",
   "execution_count": 5,
   "id": "8f929d6b",
   "metadata": {},
   "outputs": [
    {
     "ename": "AssertionError",
     "evalue": "Probability of missing a bag should be close to theoretical value!",
     "output_type": "error",
     "traceback": [
      "\u001b[0;31m---------------------------------------------------------------------------\u001b[0m",
      "\u001b[0;31mAssertionError\u001b[0m                            Traceback (most recent call last)",
      "\u001b[1;32m/home/andrey/Projects/ml-course/homeworks/hw05_bagging_and_oob/assignment_bagging_and_oob.ipynb Cell 12\u001b[0m line \u001b[0;36m<cell line: 1>\u001b[0;34m()\u001b[0m\n\u001b[1;32m      <a href='vscode-notebook-cell:/home/andrey/Projects/ml-course/homeworks/hw05_bagging_and_oob/assignment_bagging_and_oob.ipynb#X14sZmlsZQ%3D%3D?line=5'>6</a>\u001b[0m     predictions \u001b[39m=\u001b[39m bagging_regressor\u001b[39m.\u001b[39mpredict(X)\n\u001b[1;32m      <a href='vscode-notebook-cell:/home/andrey/Projects/ml-course/homeworks/hw05_bagging_and_oob/assignment_bagging_and_oob.ipynb#X14sZmlsZQ%3D%3D?line=6'>7</a>\u001b[0m     oob_score \u001b[39m=\u001b[39m bagging_regressor\u001b[39m.\u001b[39mOOB_score()\n\u001b[0;32m----> <a href='vscode-notebook-cell:/home/andrey/Projects/ml-course/homeworks/hw05_bagging_and_oob/assignment_bagging_and_oob.ipynb#X14sZmlsZQ%3D%3D?line=7'>8</a>\u001b[0m     \u001b[39massert\u001b[39;00m \u001b[39mabs\u001b[39m(\n\u001b[1;32m      <a href='vscode-notebook-cell:/home/andrey/Projects/ml-course/homeworks/hw05_bagging_and_oob/assignment_bagging_and_oob.ipynb#X14sZmlsZQ%3D%3D?line=8'>9</a>\u001b[0m         np\u001b[39m.\u001b[39mmean(\n\u001b[1;32m     <a href='vscode-notebook-cell:/home/andrey/Projects/ml-course/homeworks/hw05_bagging_and_oob/assignment_bagging_and_oob.ipynb#X14sZmlsZQ%3D%3D?line=9'>10</a>\u001b[0m             \u001b[39mlist\u001b[39m(\u001b[39mmap\u001b[39m(\u001b[39mlen\u001b[39m, bagging_regressor\u001b[39m.\u001b[39mlist_of_predictions_lists))\n\u001b[1;32m     <a href='vscode-notebook-cell:/home/andrey/Projects/ml-course/homeworks/hw05_bagging_and_oob/assignment_bagging_and_oob.ipynb#X14sZmlsZQ%3D%3D?line=10'>11</a>\u001b[0m         ) \u001b[39m/\u001b[39m bagging_regressor\u001b[39m.\u001b[39mnum_bags \u001b[39m-\u001b[39m \u001b[39m1\u001b[39m\u001b[39m/\u001b[39mnp\u001b[39m.\u001b[39mexp(\u001b[39m1\u001b[39m)) \u001b[39m<\u001b[39m \u001b[39m1e-2\u001b[39m, \u001b[39m'\u001b[39m\u001b[39mProbability of missing a bag should be close to theoretical value!\u001b[39m\u001b[39m'\u001b[39m\n\u001b[1;32m     <a href='vscode-notebook-cell:/home/andrey/Projects/ml-course/homeworks/hw05_bagging_and_oob/assignment_bagging_and_oob.ipynb#X14sZmlsZQ%3D%3D?line=12'>13</a>\u001b[0m \u001b[39mprint\u001b[39m(\u001b[39m'\u001b[39m\u001b[39mComplex tests done!\u001b[39m\u001b[39m'\u001b[39m)\n",
      "\u001b[0;31mAssertionError\u001b[0m: Probability of missing a bag should be close to theoretical value!"
     ]
    }
   ],
   "source": [
    "for _ in range(10):\n",
    "    X = np.random.randn(2000, 15)\n",
    "    y = np.random.randn(len(X))\n",
    "    bagging_regressor = SimplifiedBaggingRegressor(num_bags=100, oob=True)\n",
    "    bagging_regressor.fit(LinearRegression, X, y)\n",
    "    predictions = bagging_regressor.predict(X)\n",
    "    oob_score = bagging_regressor.OOB_score()\n",
    "    assert abs(\n",
    "        np.mean(\n",
    "            list(map(len, bagging_regressor.list_of_predictions_lists))\n",
    "        ) / bagging_regressor.num_bags - 1/np.exp(1)) < 1e-2, 'Probability of missing a bag should be close to theoretical value!'\n",
    "    \n",
    "print('Complex tests done!')"
   ]
  },
  {
   "cell_type": "code",
   "execution_count": null,
   "id": "af170ef8",
   "metadata": {},
   "outputs": [],
   "source": [
    "np.mean(\n",
    "            list(map(len, bagging_regressor.list_of_predictions_lists))\n",
    "        ) / bagging_regressor.num_bags - 1/np.exp(1)"
   ]
  },
  {
   "cell_type": "markdown",
   "id": "9535cb6d",
   "metadata": {},
   "source": [
    "Great job! Please, save `SimplifiedBaggingRegressor` to  `bagging.py` and submit your solution to the grading system!"
   ]
  }
 ],
 "metadata": {
  "kernelspec": {
   "display_name": "Python 3",
   "language": "python",
   "name": "python3"
  },
  "language_info": {
   "codemirror_mode": {
    "name": "ipython",
    "version": 3
   },
   "file_extension": ".py",
   "mimetype": "text/x-python",
   "name": "python",
   "nbconvert_exporter": "python",
   "pygments_lexer": "ipython3",
   "version": "3.10.12"
  }
 },
 "nbformat": 4,
 "nbformat_minor": 5
}
